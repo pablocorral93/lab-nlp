{
  "cells": [
    {
      "cell_type": "markdown",
      "metadata": {
        "id": "3q9FlumAqySm"
      },
      "source": [
        "# Challenge 2: Sentiment Analysis\n",
        "\n",
        "In this challenge we will learn sentiment analysis and practice performing sentiment analysis on Twitter tweets.\n",
        "\n",
        "## Introduction\n",
        "\n",
        "Sentiment analysis is to *systematically identify, extract, quantify, and study affective states and subjective information* based on texts ([reference](https://en.wikipedia.org/wiki/Sentiment_analysis)). In simple words, it's to understand whether a person is happy or unhappy in producing the piece of text. Why we (or rather, companies) care about sentiment in texts? It's because by understanding the sentiments in texts, we will be able to know if our customers are happy or unhappy about our products and services. If they are unhappy, the subsequent action is to figure out what have caused the unhappiness and make improvements.\n",
        "\n",
        "Basic sentiment analysis only understands the *positive* or *negative* (sometimes *neutral* too) polarities of the sentiment. More advanced sentiment analysis will also consider dimensions such as agreement, subjectivity, confidence, irony, and so on. In this challenge we will conduct the basic positive vs negative sentiment analysis based on real Twitter tweets.\n",
        "\n",
        "NLTK comes with a [sentiment analysis package](https://www.nltk.org/api/nltk.sentiment.html). This package is great for dummies to perform sentiment analysis because it requires only the textual data to make predictions. For example:\n",
        "\n",
        "```python\n",
        ">>> from nltk.sentiment.vader import SentimentIntensityAnalyzer\n",
        ">>> txt = \"Ironhack is a Global Tech School ranked num 2 worldwide.\n",
        "\n",
        "Our mission is to help people transform their careers and join a thriving community of tech professionals that love what they do.\"\n",
        ">>> analyzer = SentimentIntensityAnalyzer()\n",
        ">>> analyzer.polarity_scores(txt)\n",
        "{'neg': 0.0, 'neu': 0.741, 'pos': 0.259, 'compound': 0.8442}\n",
        "```\n",
        "\n",
        "In this challenge, however, you will not use NLTK's sentiment analysis package because in your Machine Learning training in the past 2 weeks you have learned how to make predictions more accurate than that. The [tweets data](https://www.kaggle.com/kazanova/sentiment140) we will be using today are already coded for the positive/negative sentiment. You will be able to use the Naïve Bayes classifier you learned in the lesson to predict the sentiment of tweets based on the labels."
      ]
    },
    {
      "cell_type": "markdown",
      "metadata": {
        "id": "w6MTMLP5qySo"
      },
      "source": [
        "## Conducting Sentiment Analysis\n",
        "\n",
        "### Loading and Exploring Data\n",
        "\n",
        "The dataset we'll be using today is located on Kaggle (https://www.kaggle.com/kazanova/sentiment140). Once you have downloaded and imported the dataset, it you will need to define the columns names: df.columns = ['target','id','date','flag','user','text']\n",
        "\n",
        "*Notes:*\n",
        "\n",
        "* The dataset is huuuuge (1.6m tweets). When you develop your data analysis codes, you can sample a subset of the data (e.g. 20k records) so that you will save a lot of time when you test your codes."
      ]
    },
    {
      "cell_type": "code",
      "execution_count": 13,
      "metadata": {
        "id": "OL2DdwSdqySp"
      },
      "outputs": [],
      "source": [
        "# your code here\n",
        "\n",
        "import pandas as pd\n",
        "\n",
        "df = pd.read_csv('tweets.csv', encoding='latin-1')\n"
      ]
    },
    {
      "cell_type": "code",
      "source": [
        "sampled_df = df.sample(n=20000, random_state=42)"
      ],
      "metadata": {
        "id": "IAYq-c50y2z4"
      },
      "execution_count": 10,
      "outputs": []
    },
    {
      "cell_type": "code",
      "source": [
        "sampled_df.columns = ['id','date','flag','user','text']\n"
      ],
      "metadata": {
        "id": "yy9ZrXHiy9Zv"
      },
      "execution_count": 15,
      "outputs": []
    },
    {
      "cell_type": "code",
      "source": [
        "sampled_df.head()"
      ],
      "metadata": {
        "colab": {
          "base_uri": "https://localhost:8080/",
          "height": 206
        },
        "id": "EgiCHkcCzh7b",
        "outputId": "726bb613-0735-4fd4-b757-7328d47bf89f"
      },
      "execution_count": 19,
      "outputs": [
        {
          "output_type": "execute_result",
          "data": {
            "text/plain": [
              "           id                          date      flag         user  \\\n",
              "4  1678756621  Sat May 02 07:38:17 PDT 2009  NO_QUERY   scotsmanrs   \n",
              "4  2175496821  Mon Jun 15 01:09:08 PDT 2009  NO_QUERY   bobbyroles   \n",
              "4  1826983569  Sun May 17 09:44:27 PDT 2009  NO_QUERY   Mernahuana   \n",
              "4  1833333992  Sun May 17 22:58:12 PDT 2009  NO_QUERY       svetin   \n",
              "0  2263054057  Sat Jun 20 23:50:41 PDT 2009  NO_QUERY  ctaudreylim   \n",
              "\n",
              "                                                text  \n",
              "4  One jig, five camera angles! Need I say any mo...  \n",
              "4  @mcilwain @deathofarose We just finished Forge...  \n",
              "4  @420thoughts sending u good weed karma  lotta ...  \n",
              "4  @PRmomHawaii Doesn't it make you want to get m...  \n",
              "0     @amirahanis I had one! But I gave it away....   "
            ],
            "text/html": [
              "\n",
              "  <div id=\"df-684ebfc1-9288-485d-9e34-cb243c469106\" class=\"colab-df-container\">\n",
              "    <div>\n",
              "<style scoped>\n",
              "    .dataframe tbody tr th:only-of-type {\n",
              "        vertical-align: middle;\n",
              "    }\n",
              "\n",
              "    .dataframe tbody tr th {\n",
              "        vertical-align: top;\n",
              "    }\n",
              "\n",
              "    .dataframe thead th {\n",
              "        text-align: right;\n",
              "    }\n",
              "</style>\n",
              "<table border=\"1\" class=\"dataframe\">\n",
              "  <thead>\n",
              "    <tr style=\"text-align: right;\">\n",
              "      <th></th>\n",
              "      <th>id</th>\n",
              "      <th>date</th>\n",
              "      <th>flag</th>\n",
              "      <th>user</th>\n",
              "      <th>text</th>\n",
              "    </tr>\n",
              "  </thead>\n",
              "  <tbody>\n",
              "    <tr>\n",
              "      <th>4</th>\n",
              "      <td>1678756621</td>\n",
              "      <td>Sat May 02 07:38:17 PDT 2009</td>\n",
              "      <td>NO_QUERY</td>\n",
              "      <td>scotsmanrs</td>\n",
              "      <td>One jig, five camera angles! Need I say any mo...</td>\n",
              "    </tr>\n",
              "    <tr>\n",
              "      <th>4</th>\n",
              "      <td>2175496821</td>\n",
              "      <td>Mon Jun 15 01:09:08 PDT 2009</td>\n",
              "      <td>NO_QUERY</td>\n",
              "      <td>bobbyroles</td>\n",
              "      <td>@mcilwain @deathofarose We just finished Forge...</td>\n",
              "    </tr>\n",
              "    <tr>\n",
              "      <th>4</th>\n",
              "      <td>1826983569</td>\n",
              "      <td>Sun May 17 09:44:27 PDT 2009</td>\n",
              "      <td>NO_QUERY</td>\n",
              "      <td>Mernahuana</td>\n",
              "      <td>@420thoughts sending u good weed karma  lotta ...</td>\n",
              "    </tr>\n",
              "    <tr>\n",
              "      <th>4</th>\n",
              "      <td>1833333992</td>\n",
              "      <td>Sun May 17 22:58:12 PDT 2009</td>\n",
              "      <td>NO_QUERY</td>\n",
              "      <td>svetin</td>\n",
              "      <td>@PRmomHawaii Doesn't it make you want to get m...</td>\n",
              "    </tr>\n",
              "    <tr>\n",
              "      <th>0</th>\n",
              "      <td>2263054057</td>\n",
              "      <td>Sat Jun 20 23:50:41 PDT 2009</td>\n",
              "      <td>NO_QUERY</td>\n",
              "      <td>ctaudreylim</td>\n",
              "      <td>@amirahanis I had one! But I gave it away....</td>\n",
              "    </tr>\n",
              "  </tbody>\n",
              "</table>\n",
              "</div>\n",
              "    <div class=\"colab-df-buttons\">\n",
              "\n",
              "  <div class=\"colab-df-container\">\n",
              "    <button class=\"colab-df-convert\" onclick=\"convertToInteractive('df-684ebfc1-9288-485d-9e34-cb243c469106')\"\n",
              "            title=\"Convert this dataframe to an interactive table.\"\n",
              "            style=\"display:none;\">\n",
              "\n",
              "  <svg xmlns=\"http://www.w3.org/2000/svg\" height=\"24px\" viewBox=\"0 -960 960 960\">\n",
              "    <path d=\"M120-120v-720h720v720H120Zm60-500h600v-160H180v160Zm220 220h160v-160H400v160Zm0 220h160v-160H400v160ZM180-400h160v-160H180v160Zm440 0h160v-160H620v160ZM180-180h160v-160H180v160Zm440 0h160v-160H620v160Z\"/>\n",
              "  </svg>\n",
              "    </button>\n",
              "\n",
              "  <style>\n",
              "    .colab-df-container {\n",
              "      display:flex;\n",
              "      gap: 12px;\n",
              "    }\n",
              "\n",
              "    .colab-df-convert {\n",
              "      background-color: #E8F0FE;\n",
              "      border: none;\n",
              "      border-radius: 50%;\n",
              "      cursor: pointer;\n",
              "      display: none;\n",
              "      fill: #1967D2;\n",
              "      height: 32px;\n",
              "      padding: 0 0 0 0;\n",
              "      width: 32px;\n",
              "    }\n",
              "\n",
              "    .colab-df-convert:hover {\n",
              "      background-color: #E2EBFA;\n",
              "      box-shadow: 0px 1px 2px rgba(60, 64, 67, 0.3), 0px 1px 3px 1px rgba(60, 64, 67, 0.15);\n",
              "      fill: #174EA6;\n",
              "    }\n",
              "\n",
              "    .colab-df-buttons div {\n",
              "      margin-bottom: 4px;\n",
              "    }\n",
              "\n",
              "    [theme=dark] .colab-df-convert {\n",
              "      background-color: #3B4455;\n",
              "      fill: #D2E3FC;\n",
              "    }\n",
              "\n",
              "    [theme=dark] .colab-df-convert:hover {\n",
              "      background-color: #434B5C;\n",
              "      box-shadow: 0px 1px 3px 1px rgba(0, 0, 0, 0.15);\n",
              "      filter: drop-shadow(0px 1px 2px rgba(0, 0, 0, 0.3));\n",
              "      fill: #FFFFFF;\n",
              "    }\n",
              "  </style>\n",
              "\n",
              "    <script>\n",
              "      const buttonEl =\n",
              "        document.querySelector('#df-684ebfc1-9288-485d-9e34-cb243c469106 button.colab-df-convert');\n",
              "      buttonEl.style.display =\n",
              "        google.colab.kernel.accessAllowed ? 'block' : 'none';\n",
              "\n",
              "      async function convertToInteractive(key) {\n",
              "        const element = document.querySelector('#df-684ebfc1-9288-485d-9e34-cb243c469106');\n",
              "        const dataTable =\n",
              "          await google.colab.kernel.invokeFunction('convertToInteractive',\n",
              "                                                    [key], {});\n",
              "        if (!dataTable) return;\n",
              "\n",
              "        const docLinkHtml = 'Like what you see? Visit the ' +\n",
              "          '<a target=\"_blank\" href=https://colab.research.google.com/notebooks/data_table.ipynb>data table notebook</a>'\n",
              "          + ' to learn more about interactive tables.';\n",
              "        element.innerHTML = '';\n",
              "        dataTable['output_type'] = 'display_data';\n",
              "        await google.colab.output.renderOutput(dataTable, element);\n",
              "        const docLink = document.createElement('div');\n",
              "        docLink.innerHTML = docLinkHtml;\n",
              "        element.appendChild(docLink);\n",
              "      }\n",
              "    </script>\n",
              "  </div>\n",
              "\n",
              "\n",
              "<div id=\"df-74a19d51-7af9-4457-9d1c-04e603b1fb0c\">\n",
              "  <button class=\"colab-df-quickchart\" onclick=\"quickchart('df-74a19d51-7af9-4457-9d1c-04e603b1fb0c')\"\n",
              "            title=\"Suggest charts\"\n",
              "            style=\"display:none;\">\n",
              "\n",
              "<svg xmlns=\"http://www.w3.org/2000/svg\" height=\"24px\"viewBox=\"0 0 24 24\"\n",
              "     width=\"24px\">\n",
              "    <g>\n",
              "        <path d=\"M19 3H5c-1.1 0-2 .9-2 2v14c0 1.1.9 2 2 2h14c1.1 0 2-.9 2-2V5c0-1.1-.9-2-2-2zM9 17H7v-7h2v7zm4 0h-2V7h2v10zm4 0h-2v-4h2v4z\"/>\n",
              "    </g>\n",
              "</svg>\n",
              "  </button>\n",
              "\n",
              "<style>\n",
              "  .colab-df-quickchart {\n",
              "      --bg-color: #E8F0FE;\n",
              "      --fill-color: #1967D2;\n",
              "      --hover-bg-color: #E2EBFA;\n",
              "      --hover-fill-color: #174EA6;\n",
              "      --disabled-fill-color: #AAA;\n",
              "      --disabled-bg-color: #DDD;\n",
              "  }\n",
              "\n",
              "  [theme=dark] .colab-df-quickchart {\n",
              "      --bg-color: #3B4455;\n",
              "      --fill-color: #D2E3FC;\n",
              "      --hover-bg-color: #434B5C;\n",
              "      --hover-fill-color: #FFFFFF;\n",
              "      --disabled-bg-color: #3B4455;\n",
              "      --disabled-fill-color: #666;\n",
              "  }\n",
              "\n",
              "  .colab-df-quickchart {\n",
              "    background-color: var(--bg-color);\n",
              "    border: none;\n",
              "    border-radius: 50%;\n",
              "    cursor: pointer;\n",
              "    display: none;\n",
              "    fill: var(--fill-color);\n",
              "    height: 32px;\n",
              "    padding: 0;\n",
              "    width: 32px;\n",
              "  }\n",
              "\n",
              "  .colab-df-quickchart:hover {\n",
              "    background-color: var(--hover-bg-color);\n",
              "    box-shadow: 0 1px 2px rgba(60, 64, 67, 0.3), 0 1px 3px 1px rgba(60, 64, 67, 0.15);\n",
              "    fill: var(--button-hover-fill-color);\n",
              "  }\n",
              "\n",
              "  .colab-df-quickchart-complete:disabled,\n",
              "  .colab-df-quickchart-complete:disabled:hover {\n",
              "    background-color: var(--disabled-bg-color);\n",
              "    fill: var(--disabled-fill-color);\n",
              "    box-shadow: none;\n",
              "  }\n",
              "\n",
              "  .colab-df-spinner {\n",
              "    border: 2px solid var(--fill-color);\n",
              "    border-color: transparent;\n",
              "    border-bottom-color: var(--fill-color);\n",
              "    animation:\n",
              "      spin 1s steps(1) infinite;\n",
              "  }\n",
              "\n",
              "  @keyframes spin {\n",
              "    0% {\n",
              "      border-color: transparent;\n",
              "      border-bottom-color: var(--fill-color);\n",
              "      border-left-color: var(--fill-color);\n",
              "    }\n",
              "    20% {\n",
              "      border-color: transparent;\n",
              "      border-left-color: var(--fill-color);\n",
              "      border-top-color: var(--fill-color);\n",
              "    }\n",
              "    30% {\n",
              "      border-color: transparent;\n",
              "      border-left-color: var(--fill-color);\n",
              "      border-top-color: var(--fill-color);\n",
              "      border-right-color: var(--fill-color);\n",
              "    }\n",
              "    40% {\n",
              "      border-color: transparent;\n",
              "      border-right-color: var(--fill-color);\n",
              "      border-top-color: var(--fill-color);\n",
              "    }\n",
              "    60% {\n",
              "      border-color: transparent;\n",
              "      border-right-color: var(--fill-color);\n",
              "    }\n",
              "    80% {\n",
              "      border-color: transparent;\n",
              "      border-right-color: var(--fill-color);\n",
              "      border-bottom-color: var(--fill-color);\n",
              "    }\n",
              "    90% {\n",
              "      border-color: transparent;\n",
              "      border-bottom-color: var(--fill-color);\n",
              "    }\n",
              "  }\n",
              "</style>\n",
              "\n",
              "  <script>\n",
              "    async function quickchart(key) {\n",
              "      const quickchartButtonEl =\n",
              "        document.querySelector('#' + key + ' button');\n",
              "      quickchartButtonEl.disabled = true;  // To prevent multiple clicks.\n",
              "      quickchartButtonEl.classList.add('colab-df-spinner');\n",
              "      try {\n",
              "        const charts = await google.colab.kernel.invokeFunction(\n",
              "            'suggestCharts', [key], {});\n",
              "      } catch (error) {\n",
              "        console.error('Error during call to suggestCharts:', error);\n",
              "      }\n",
              "      quickchartButtonEl.classList.remove('colab-df-spinner');\n",
              "      quickchartButtonEl.classList.add('colab-df-quickchart-complete');\n",
              "    }\n",
              "    (() => {\n",
              "      let quickchartButtonEl =\n",
              "        document.querySelector('#df-74a19d51-7af9-4457-9d1c-04e603b1fb0c button');\n",
              "      quickchartButtonEl.style.display =\n",
              "        google.colab.kernel.accessAllowed ? 'block' : 'none';\n",
              "    })();\n",
              "  </script>\n",
              "</div>\n",
              "    </div>\n",
              "  </div>\n"
            ],
            "application/vnd.google.colaboratory.intrinsic+json": {
              "type": "dataframe",
              "variable_name": "sampled_df",
              "repr_error": "'str' object has no attribute 'empty'"
            }
          },
          "metadata": {},
          "execution_count": 19
        }
      ]
    },
    {
      "cell_type": "markdown",
      "metadata": {
        "id": "E2MVIR_MqySp"
      },
      "source": [
        "### Prepare Textual Data for Sentiment Analysis\n",
        "\n",
        "Now, apply the functions you have written in Challenge 1 to your whole data set. These functions include:\n",
        "\n",
        "* `clean_up()`\n",
        "\n",
        "* `tokenize()`\n",
        "\n",
        "* `stem_and_lemmatize()`\n",
        "\n",
        "* `remove_stopwords()`\n",
        "\n",
        "Create a new column called `text_processed` in the dataframe to contain the processed data. At the end, your `text_processed` column should contain lists of word tokens that are cleaned up. Your data should look like below:\n",
        "\n",
        "![Processed Data](data-cleaning-results.png)"
      ]
    },
    {
      "cell_type": "code",
      "execution_count": null,
      "metadata": {
        "id": "u8YOgbOuqySp"
      },
      "outputs": [],
      "source": [
        "# your code here\n",
        "\n",
        "import re\n",
        "import pandas as pd\n",
        "import nltk\n",
        "from nltk.tokenize import word_tokenize\n",
        "from nltk.stem import PorterStemmer, WordNetLemmatizer\n",
        "from nltk.corpus import stopwords\n",
        "\n",
        "# Function to clean up text\n",
        "def clean_up(text):\n",
        "    text = re.sub(r'http\\S+', '', text)\n",
        "    text = re.sub(r'[^\\w\\s]', ' ', text)\n",
        "    text = re.sub(r'\\d+', ' ', text)\n",
        "    text = ' '.join(text.split())\n",
        "    return text.lower()\n",
        "\n",
        "# Function to tokenize text\n",
        "def tokenize(text):\n",
        "    tokens = word_tokenize(text)\n",
        "    return tokens\n",
        "\n",
        "# Function to perform stemming and lemmatization\n",
        "def stem_and_lemmatize(words):\n",
        "    stemmer = PorterStemmer()\n",
        "    lemmatizer = WordNetLemmatizer()\n",
        "    stemmed_and_lemmatized_words = []\n",
        "    for word in words:\n",
        "        stemmed_word = stemmer.stem(word)\n",
        "        lemmatized_word = lemmatizer.lemmatize(word)\n",
        "        stemmed_and_lemmatized_words.append((stemmed_word, lemmatized_word))\n",
        "    return stemmed_and_lemmatized_words\n",
        "\n",
        "# Function to remove stopwords\n",
        "def remove_stopwords(words):\n",
        "    nltk.download('stopwords')\n",
        "    stop_words = set(stopwords.words('english'))\n",
        "    filtered_words = [word for word in words if word not in stop_words]\n",
        "    return filtered_words\n",
        "\n",
        "\n",
        "df['text_processed'] = sampled_df['text'].apply(clean_up)\n",
        "df['text_processed'] = df['text_processed'].apply(tokenize)\n",
        "df['text_processed'] = df['text_processed'].apply(stem_and_lemmatize)\n",
        "df['text_processed'] = df['text_processed'].apply(remove_stopwords)"
      ]
    },
    {
      "cell_type": "markdown",
      "metadata": {
        "id": "us9e5HBRqySp"
      },
      "source": [
        "### Creating Bag of Words\n",
        "\n",
        "The purpose of this step is to create a [bag of words](https://en.wikipedia.org/wiki/Bag-of-words_model) from the processed data. The bag of words contains all the unique words in your whole text body (a.k.a. *corpus*) with the number of occurrence of each word. It will allow you to understand which words are the most important features across the whole corpus.\n",
        "\n",
        "Also, you can imagine you will have a massive set of words. The less important words (i.e. those of very low number of occurrence) do not contribute much to the sentiment. Therefore, you only need to use the most important words to build your feature set in the next step. In our case, we will use the top 5,000 words with the highest frequency to build the features.\n",
        "\n",
        "In the cell below, combine all the words in `text_processed` and calculate the frequency distribution of all words. A convenient library to calculate the term frequency distribution is NLTK's `FreqDist` class ([documentation](https://www.nltk.org/api/nltk.html#module-nltk.probability)). Then select the top 5,000 words from the frequency distribution."
      ]
    },
    {
      "cell_type": "code",
      "execution_count": null,
      "metadata": {
        "id": "_OGl1JNbqySq"
      },
      "outputs": [],
      "source": [
        "# your code here\n",
        "\n",
        "from nltk import FreqDist\n",
        "\n",
        "# Combine all words in text_processed into a single list\n",
        "all_words = [word for sublist in df['text_processed'] for word in sublist]\n",
        "\n",
        "# Calculate the frequency distribution of all words\n",
        "freq_dist = FreqDist(all_words)\n",
        "\n",
        "# Select the top 5,000 words from the frequency distribution\n",
        "top_words = freq_dist.most_common(5000)\n",
        "\n",
        "print(top_words)\n",
        "\n"
      ]
    },
    {
      "cell_type": "markdown",
      "metadata": {
        "id": "Gr_XT9YhqySq"
      },
      "source": [
        "### Building Features\n",
        "\n",
        "Now let's build the features. Using the top 5,000 words, create a 2-dimensional matrix to record whether each of those words is contained in each document (tweet). Then you also have an output column to indicate whether the sentiment in each tweet is positive. For example, assuming your bag of words has 5 items (`['one', 'two', 'three', 'four', 'five']`) out of 4 documents (`['A', 'B', 'C', 'D']`), your feature set is essentially:\n",
        "\n",
        "| Doc | one | two | three | four | five | is_positive |\n",
        "|---|---|---|---|---|---|---|\n",
        "| A | True | False | False | True | False | True |\n",
        "| B | False | False | False | True | True | False |\n",
        "| C | False | True | False | False | False | True |\n",
        "| D | True | False | False | False | True | False|\n",
        "\n",
        "However, because the `nltk.NaiveBayesClassifier.train` class we will use in the next step does not work with Pandas dataframe, the structure of your feature set should be converted to the Python list looking like below:\n",
        "\n",
        "```python\n",
        "[\n",
        "\t({\n",
        "\t\t'one': True,\n",
        "\t\t'two': False,\n",
        "\t\t'three': False,\n",
        "\t\t'four': True,\n",
        "\t\t'five': False\n",
        "\t}, True),\n",
        "\t({\n",
        "\t\t'one': False,\n",
        "\t\t'two': False,\n",
        "\t\t'three': False,\n",
        "\t\t'four': True,\n",
        "\t\t'five': True\n",
        "\t}, False),\n",
        "\t({\n",
        "\t\t'one': False,\n",
        "\t\t'two': True,\n",
        "\t\t'three': False,\n",
        "\t\t'four': False,\n",
        "\t\t'five': False\n",
        "\t}, True),\n",
        "\t({\n",
        "\t\t'one': True,\n",
        "\t\t'two': False,\n",
        "\t\t'three': False,\n",
        "\t\t'four': False,\n",
        "\t\t'five': True\n",
        "\t}, False)\n",
        "]\n",
        "```\n",
        "\n",
        "To help you in this step, watch the [following video](https://www.youtube.com/watch?v=-vVskDsHcVc) to learn how to build the feature set with Python and NLTK. The source code in this video can be found [here](https://pythonprogramming.net/words-as-features-nltk-tutorial/)."
      ]
    },
    {
      "cell_type": "markdown",
      "metadata": {
        "id": "P0geqnZzqySq"
      },
      "source": [
        "[![Building Features](building-features.jpg)](https://www.youtube.com/watch?v=-vVskDsHcVc)"
      ]
    },
    {
      "cell_type": "code",
      "execution_count": null,
      "metadata": {
        "id": "V6w1KRarqySq"
      },
      "outputs": [],
      "source": [
        "# your code here\n",
        "\n",
        "# Create a feature set and output labels\n",
        "feature_set = []\n",
        "output_labels = []\n",
        "\n",
        "# Iterate over each document in the dataset\n",
        "for index, row in sampled_df.iterrows():\n",
        "    # Initialize feature vector for the current document\n",
        "    document_features = {}\n",
        "    # Iterate over each word in the top_words list\n",
        "    for word, _ in top_words:\n",
        "        # Check if the word is present in the current document\n",
        "        # If yes, set the corresponding entry in the feature vector to 1; otherwise, set it to 0\n",
        "        document_features[word] = 1 if word in row['text_processed'] else 0\n",
        "    # Append the feature vector to the feature set\n",
        "    feature_set.append(document_features)\n",
        "    # Record the sentiment of the current document (e.g., positive or negative)\n",
        "    output_labels.append(row['sentiment'])  # Assuming 'sentiment' is the name of the column containing sentiment labels\n",
        "\n",
        "# Convert feature set and output labels into Python lists\n",
        "feature_set_list = [feature_set[i] for i in range(len(feature_set))]\n",
        "output_labels_list = [output_labels[i] for i in range(len(output_labels))]\n",
        "\n",
        "# Now you have feature_set_list and output_labels_list ready to be used with nltk.NaiveBayesClassifier.train\n"
      ]
    },
    {
      "cell_type": "markdown",
      "metadata": {
        "id": "UNZ7Bd-BqySq"
      },
      "source": [
        "### Building and Traininng Naive Bayes Model\n",
        "\n",
        "In this step you will split your feature set into a training and a test set. Then you will create a Bayes classifier instance using `nltk.NaiveBayesClassifier.train` ([example](https://www.nltk.org/book/ch06.html)) to train with the training dataset.\n",
        "\n",
        "After training the model, call `classifier.show_most_informative_features()` to inspect the most important features. The output will look like:\n",
        "\n",
        "```\n",
        "Most Informative Features\n",
        "\t    snow = True            False : True   =     34.3 : 1.0\n",
        "\t  easter = True            False : True   =     26.2 : 1.0\n",
        "\t headach = True            False : True   =     20.9 : 1.0\n",
        "\t    argh = True            False : True   =     17.6 : 1.0\n",
        "\tunfortun = True            False : True   =     16.9 : 1.0\n",
        "\t    jona = True             True : False  =     16.2 : 1.0\n",
        "\t     ach = True            False : True   =     14.9 : 1.0\n",
        "\t     sad = True            False : True   =     13.0 : 1.0\n",
        "\t  parent = True            False : True   =     12.9 : 1.0\n",
        "\t  spring = True            False : True   =     12.7 : 1.0\n",
        "```\n",
        "\n",
        "The [following video](https://www.youtube.com/watch?v=rISOsUaTrO4) will help you complete this step. The source code in this video can be found [here](https://pythonprogramming.net/naive-bayes-classifier-nltk-tutorial/)."
      ]
    },
    {
      "cell_type": "markdown",
      "metadata": {
        "id": "ZdP5-unBqySq"
      },
      "source": [
        "[![Building and Training NB](nb-model-building.jpg)](https://www.youtube.com/watch?v=rISOsUaTrO4)"
      ]
    },
    {
      "cell_type": "code",
      "execution_count": null,
      "metadata": {
        "id": "xzV75hPfqySr"
      },
      "outputs": [],
      "source": [
        "# your code here\n",
        "\n",
        "import random\n",
        "import nltk\n",
        "\n",
        "# Combine feature sets and output labels\n",
        "combined_data = list(zip(feature_set_list, output_labels_list))\n",
        "\n",
        "# Shuffle the combined data to ensure randomness\n",
        "random.shuffle(combined_data)\n",
        "\n",
        "# Split the data into training and test sets (e.g., 80% training, 20% test)\n",
        "train_size = int(0.8 * len(combined_data))\n",
        "train_set = combined_data[:train_size]\n",
        "test_set = combined_data[train_size:]\n",
        "\n",
        "# Train the Naive Bayes classifier using the training set\n",
        "classifier = nltk.NaiveBayesClassifier.train(train_set)\n",
        "\n",
        "# Show the most informative features\n",
        "classifier.show_most_informative_features()\n"
      ]
    },
    {
      "cell_type": "markdown",
      "metadata": {
        "id": "SeRL5wQmqySr"
      },
      "source": [
        "### Testing Naive Bayes Model\n",
        "\n",
        "Now we'll test our classifier with the test dataset. This is done by calling `nltk.classify.accuracy(classifier, test)`.\n",
        "\n",
        "As mentioned in one of the tutorial videos, a Naive Bayes model is considered OK if your accuracy score is over 0.6. If your accuracy score is over 0.7, you've done a great job!"
      ]
    },
    {
      "cell_type": "code",
      "execution_count": null,
      "metadata": {
        "id": "cd5QHAIRqySr"
      },
      "outputs": [],
      "source": [
        "# your code here\n",
        "\n",
        "import nltk\n",
        "\n",
        "# Calculate the accuracy of the classifier using the test set\n",
        "accuracy = nltk.classify.accuracy(classifier, test_set)\n",
        "\n",
        "print(\"Classifier Accuracy:\", accuracy)\n"
      ]
    },
    {
      "cell_type": "markdown",
      "metadata": {
        "id": "H4uUkRUKqySr"
      },
      "source": [
        "## Bonus Question 1: Improve Model Performance\n",
        "\n",
        "If you are still not exhausted so far and want to dig deeper, try to improve your classifier performance. There are many aspects you can dig into, for example:\n",
        "\n",
        "* Improve stemming and lemmatization. Inspect your bag of words and the most important features. Are there any words you should furuther remove from analysis? You can append these words to further remove to the stop words list.\n",
        "\n",
        "* Remember we only used the top 5,000 features to build model? Try using different numbers of top features. The bottom line is to use as few features as you can without compromising your model performance. The fewer features you select into your model, the faster your model is trained. Then you can use a larger sample size to improve your model accuracy score."
      ]
    },
    {
      "cell_type": "code",
      "execution_count": null,
      "metadata": {
        "id": "3cHsWuX3qySr"
      },
      "outputs": [],
      "source": [
        "# your code here"
      ]
    },
    {
      "cell_type": "markdown",
      "metadata": {
        "id": "0UrwGsP5qySr"
      },
      "source": [
        "## Bonus Question 2: Machine Learning Pipeline\n",
        "\n",
        "In a new Jupyter Notebook, combine all your codes into a function (or a class). Your new function will execute the complete machine learning pipeline job by receiving the dataset location and output the classifier. This will allow you to use your function to predict the sentiment of any tweet in real time."
      ]
    },
    {
      "cell_type": "code",
      "execution_count": null,
      "metadata": {
        "id": "wqjfn-PpqySs"
      },
      "outputs": [],
      "source": [
        "# your code here"
      ]
    },
    {
      "cell_type": "markdown",
      "metadata": {
        "id": "JsOkLdJyqySs"
      },
      "source": [
        "## Bonus Question 3: Apache Spark\n",
        "\n",
        "If you have completed the Apache Spark advanced topic lab, what you can do is to migrate your pipeline from local to a Databricks Notebook. Share your notebook with your instructor and classmates to show off your achievements!"
      ]
    },
    {
      "cell_type": "code",
      "execution_count": null,
      "metadata": {
        "id": "JpwUM3cjqySs"
      },
      "outputs": [],
      "source": [
        "# your code here"
      ]
    }
  ],
  "metadata": {
    "kernelspec": {
      "display_name": "Python 3",
      "language": "python",
      "name": "python3"
    },
    "language_info": {
      "codemirror_mode": {
        "name": "ipython",
        "version": 3
      },
      "file_extension": ".py",
      "mimetype": "text/x-python",
      "name": "python",
      "nbconvert_exporter": "python",
      "pygments_lexer": "ipython3",
      "version": "3.7.3"
    },
    "colab": {
      "provenance": []
    }
  },
  "nbformat": 4,
  "nbformat_minor": 0
}